{
  "cells": [
    {
      "cell_type": "markdown",
      "source": [
        "# Proyecto Sprint 2"
      ],
      "metadata": {
        "id": "aoIZoie14_4q"
      }
    },
    {
      "cell_type": "markdown",
      "source": [
        "¡Bienvenido/a! Como miembro del equipo analítico, ya sentaste las bases en la primera parte del proyecto. Ahora, aplicarás técnicas más avanzadas para procesar y analizar los datos de los clientes.\n",
        "\n",
        "Como parte del equipo de análisis de Store 1, has recibido una base de datos cruda con información de clientes y sus compras. Tu objetivo es limpiar y procesar estos datos para poder responder a preguntas clave del negocio, como identificar clientes leales, analizar ingresos por categoría, y encontrar oportunidades de marketing segmentado.\n",
        "\n",
        "\n"
      ],
      "metadata": {
        "id": "pGKJsbl06R_-"
      }
    },
    {
      "cell_type": "markdown",
      "source": [
        "\n",
        "\n",
        "---\n",
        "\n"
      ],
      "metadata": {
        "id": "eiMH5R-95IbO"
      }
    },
    {
      "cell_type": "markdown",
      "source": [
        "Ejecicio 1"
      ],
      "metadata": {
        "id": "JOd5s5su5Kkq"
      }
    },
    {
      "cell_type": "markdown",
      "source": [
        "**Paso 1: Limpieza inicial de un registro de cliente**\n",
        "Este paso sirve como base para entender los elementos clave de un registro antes de escalar el proceso al resto de los usuarios.\n",
        "\n",
        "Queremos aplicar las siguientes transformaciones:\n",
        "\n",
        "Eliminar espacios en blanco y guiones bajos (_) del nombre del usuario.\n",
        "Dividir el nombre en una lista separando nombre y apellido.\n",
        "Convertir la edad del usuario a un número entero.\n",
        "Instrucciones:\n",
        "\n",
        "Usa la variable user predefinida.\n",
        "Modifica los valores directamente en esa lista.\n",
        "Muestra el resultado final con print(user).\n"
      ],
      "metadata": {
        "id": "lUpXGKOL6KHO"
      }
    },
    {
      "cell_type": "code",
      "source": [
        "# Usuario de ejemplo\n",
        "user = ['32415', ' mike_reed ', 32.0, ['ELECTRONICS', 'SPORT', 'BOOKS'], [894, 213, 173]]\n",
        "\n",
        "# Paso 1: Limpiar el nombre, quitar espacios y dividirlo por el guion bajo.\n",
        "# Esta línea hace todo el trabajo: .strip() quita espacios y .split('_') crea la lista.\n",
        "user[1] = user[1].strip().split('_')\n",
        "\n",
        "# El Paso 2 ya no es necesario, porque el Paso 1 ya convirtió el nombre en ['mike', 'reed']\n",
        "\n",
        "# Paso 3: Convertir la edad a entero\n",
        "user[2] = int(user[2])\n",
        "\n",
        "# Mostrar el resultado final\n",
        "print(\"Usuario después de la limpieza:\")\n",
        "print(user)\n"
      ],
      "outputs": [
        {
          "output_type": "stream",
          "name": "stdout",
          "text": [
            "Usuario después de la limpieza:\n",
            "['32415', ['mike', 'reed'], 32, ['ELECTRONICS', 'SPORT', 'BOOKS'], [894, 213, 173]]\n"
          ]
        }
      ],
      "execution_count": 1,
      "metadata": {
        "colab": {
          "base_uri": "https://localhost:8080/"
        },
        "id": "9vVG3S6d2Zbd",
        "outputId": "96a67e6d-f26e-42f2-b9b9-f3e5971c66b1"
      }
    },
    {
      "cell_type": "markdown",
      "source": [
        "\n",
        "\n",
        "---\n",
        "\n"
      ],
      "metadata": {
        "id": "rnPDnDdR5Qmm"
      }
    },
    {
      "cell_type": "markdown",
      "source": [
        "**Ejercicio 2**"
      ],
      "metadata": {
        "id": "pRxsVx185QL4"
      }
    },
    {
      "cell_type": "markdown",
      "source": [
        "**Paso 2: Convertir las categorías a minúsculas**\n",
        "En los datos actuales, las c\n",
        "\n",
        "ategorías favoritas de los clientes están escritas completamente en mayúsculas. Este formato puede causar inconsistencias en análisis posteriores, como al agrupar, filtrar o contar categorías. Para garantizar una lectura uniforme y facilitar futuras operaciones, es necesario normalizar estos valores a minúsculas.\n",
        "\n",
        "En este paso, trabajaremos con una lista de ejemplo llamada fav_categories y construiremos una nueva lista llamada fav_categories_low, que contendrá las versiones en minúsculas de cada categoría.\n",
        "\n",
        "Instrucciones:\n",
        "\n",
        "Crea una nueva lista donde cada categoría esté en minúscula.\n",
        "\n",
        "Usando un bucle, recorre y transforma cada elemento de la lista con las categorias en mayuscula para que queden en minuscula.\n",
        "\n",
        "Anade cada elemento a la nueva lista fav_categories_low\n",
        "\n",
        "Muestra el resultado utilizando print para verificar que la conversión fue exitosa.\n",
        "\n"
      ],
      "metadata": {
        "id": "JZ-BAkQV6C5r"
      }
    },
    {
      "cell_type": "code",
      "source": [
        "# Lista original de categorías favoritas escritas en mayúsculas\n",
        "fav_categories = ['ELECTRONICS', 'SPORT', 'BOOKS']\n",
        "\n",
        "# 1. Lista vacía donde almacenaremos las categorías convertidas a minúsculas\n",
        "fav_categories_low = []\n",
        "\n",
        "# 2. Recorremos cada categoría en la lista original\n",
        "for category in fav_categories:\n",
        "    # 2. Convertimos la categoría a minúscula utilizando el método lower()\n",
        "    lowered_category = category.lower()\n",
        "\n",
        "    # 3. Agregamos la categoría convertida a la nueva lista\n",
        "    fav_categories_low.append(lowered_category)\n",
        "\n",
        "# 4. Mostramos en pantalla la lista resultante con las categorías en minúsculas\n",
        "print(fav_categories_low)"
      ],
      "metadata": {
        "colab": {
          "base_uri": "https://localhost:8080/"
        },
        "id": "s2MQAown5dKh",
        "outputId": "58fd27ae-3ee0-43ba-c553-ecf106d843f8"
      },
      "execution_count": 2,
      "outputs": [
        {
          "output_type": "stream",
          "name": "stdout",
          "text": [
            "['electronics', 'sport', 'books']\n"
          ]
        }
      ]
    },
    {
      "cell_type": "markdown",
      "source": [
        "\n",
        "\n",
        "---\n",
        "\n"
      ],
      "metadata": {
        "id": "GdoYhEHu5rhW"
      }
    },
    {
      "cell_type": "markdown",
      "source": [
        "**Ejercicio 3**"
      ],
      "metadata": {
        "id": "VKwuwLOo5szr"
      }
    },
    {
      "cell_type": "markdown",
      "source": [
        "**Paso 3: Limpieza completa de un usuario**\n",
        "\n",
        "Ahora vamos a empaquetar todo ese proceso dentro de una función reutilizable.\n",
        "\n",
        "Crea una función llamada clean_user(user) que realice estas acciones:\n",
        "\n",
        "Limpie espacios y guiones del nombre y lo divida en nombre/apellido.\n",
        "Convierta la edad a entero.\n",
        "Convierta las categorías a minúsculas.\n",
        "Usa el mismo código que escribiste en los pasos anteriores. Solo necesitas ajustarlo para que funcione dentro de una función.\n",
        "\n",
        "Prueba tu función con el usuario test_user y muestra el resultado."
      ],
      "metadata": {
        "id": "ARy4YlK551qi"
      }
    },
    {
      "cell_type": "code",
      "source": [
        "def clean_user(user):\n",
        "    # Limpia y divide el nombre\n",
        "    name = user[1].strip().replace('_', ' ').split()\n",
        "\n",
        "    # Edad como entero\n",
        "    age = int(user[2])\n",
        "\n",
        "    # Categorías a minúsculas\n",
        "\n",
        "    categories = []\n",
        "    for cat in user[3]:\n",
        "        categories.append(cat.lower())\n",
        "\n",
        "    return [user[0], name, age, categories, user[4]]\n",
        "\n",
        "# Prueba\n",
        "test_user = ['32415', ' mike_reed ', 32.0, ['ELECTRONICS', 'SPORT', 'BOOKS'], [894, 213, 173]]\n",
        "print(clean_user(test_user))"
      ],
      "metadata": {
        "colab": {
          "base_uri": "https://localhost:8080/"
        },
        "id": "0XfcVuVI5v6_",
        "outputId": "5e079e7e-94ea-485b-9ab4-85f8a629924f"
      },
      "execution_count": 6,
      "outputs": [
        {
          "output_type": "stream",
          "name": "stdout",
          "text": [
            "['32415', ['mike', 'reed'], 32, ['electronics', 'sport', 'books'], [894, 213, 173]]\n"
          ]
        }
      ]
    },
    {
      "cell_type": "markdown",
      "source": [
        "\n",
        "\n",
        "---\n",
        "\n"
      ],
      "metadata": {
        "id": "KDacUf4m831H"
      }
    },
    {
      "cell_type": "markdown",
      "source": [
        "**Ejercicio 4**"
      ],
      "metadata": {
        "id": "QTeTG0cI84tF"
      }
    },
    {
      "cell_type": "markdown",
      "source": [
        "**Paso 4: Limpieza de toda la base de usuarios**\n",
        "\n",
        "Ya tienes la función clean_user() funcionando correctamente. Ahora es momento de aplicarla a todos los registros de clientes.\n",
        "\n",
        "Itera sobre la lista users_raw,\n",
        "Usa la función clean_user() para limpiar cada usuario,\n",
        "Guarda los resultados en una nueva lista llamada users_clean.\n",
        "Al final, imprime users_clean para verificar que todos los usuarios han sido transformados correctamente."
      ],
      "metadata": {
        "id": "6OzSuf4A88fv"
      }
    },
    {
      "cell_type": "code",
      "source": [
        "def clean_user(user):\n",
        "    # Limpia y divide el nombre\n",
        "    name = user[1].lower().strip().replace('_', ' ').split()\n",
        "\n",
        "    # Edad como entero\n",
        "    age = int(user[2])\n",
        "\n",
        "    # Categorías a minúsculas\n",
        "\n",
        "    categories = []\n",
        "    for cat in user[3]:\n",
        "        categories.append(cat.lower())\n",
        "\n",
        "    return [user[0], name, age, categories, user[4]]\n",
        "\n",
        "users_raw = [\n",
        "    ['32415', ' mike_reed ', 32.0, ['ELECTRONICS', 'SPORT', 'BOOKS'], [894, 213, 173]],\n",
        "    ['31980', 'kate morgan', 24.0, ['CLOTHES', 'BOOKS'], [439, 390]],\n",
        "    ['32156', ' john doe ', 37.0, ['ELECTRONICS', 'HOME', 'FOOD'], [459, 120, 99]],\n",
        "    ['32761', 'SAMANTHA SMITH', 29.0, ['CLOTHES', 'ELECTRONICS', 'BEAUTY'], [299, 679, 85]],\n",
        "    ['32984', 'David White', 41.0, ['BOOKS', 'HOME', 'SPORT'], [234, 329, 243]],\n",
        "    ['33001', 'emily brown', 26.0, ['BEAUTY', 'HOME', 'FOOD'], [213, 659, 79]],\n",
        "    ['33767', ' Maria Garcia', 33.0, ['CLOTHES', 'FOOD', 'BEAUTY'], [499, 189, 63]],\n",
        "    ['33912', 'JOSE MARTINEZ', 22.0, ['SPORT', 'ELECTRONICS', 'HOME'], [259, 549, 109]],\n",
        "    ['34009', 'lisa wilson ', 35.0, ['HOME', 'BOOKS', 'CLOTHES'], [329, 189, 329]],\n",
        "    ['34278', 'James Lee', 28.0, ['BEAUTY', 'CLOTHES', 'ELECTRONICS'], [189, 299, 579]]\n",
        "]\n",
        "\n",
        "users_clean = []\n",
        "\n",
        "for user in users_raw:\n",
        "    cleaned_user = clean_user(user)\n",
        "    users_clean.append(cleaned_user)\n",
        "\n",
        "\n",
        "print(users_clean)"
      ],
      "metadata": {
        "colab": {
          "base_uri": "https://localhost:8080/"
        },
        "id": "xOQjjr_B9AFB",
        "outputId": "9becc3e4-84e5-489c-e096-3a47b1b5c42f"
      },
      "execution_count": 8,
      "outputs": [
        {
          "output_type": "stream",
          "name": "stdout",
          "text": [
            "[['32415', ['mike', 'reed'], 32, ['electronics', 'sport', 'books'], [894, 213, 173]], ['31980', ['kate', 'morgan'], 24, ['clothes', 'books'], [439, 390]], ['32156', ['john', 'doe'], 37, ['electronics', 'home', 'food'], [459, 120, 99]], ['32761', ['samantha', 'smith'], 29, ['clothes', 'electronics', 'beauty'], [299, 679, 85]], ['32984', ['david', 'white'], 41, ['books', 'home', 'sport'], [234, 329, 243]], ['33001', ['emily', 'brown'], 26, ['beauty', 'home', 'food'], [213, 659, 79]], ['33767', ['maria', 'garcia'], 33, ['clothes', 'food', 'beauty'], [499, 189, 63]], ['33912', ['jose', 'martinez'], 22, ['sport', 'electronics', 'home'], [259, 549, 109]], ['34009', ['lisa', 'wilson'], 35, ['home', 'books', 'clothes'], [329, 189, 329]], ['34278', ['james', 'lee'], 28, ['beauty', 'clothes', 'electronics'], [189, 299, 579]]]\n"
          ]
        }
      ]
    },
    {
      "cell_type": "markdown",
      "source": [
        "\n",
        "\n",
        "---\n",
        "\n"
      ],
      "metadata": {
        "id": "nW0lEUdRGNCA"
      }
    },
    {
      "cell_type": "markdown",
      "source": [
        "**Ejercicio 5**"
      ],
      "metadata": {
        "id": "LvWuCqKwGOr2"
      }
    },
    {
      "cell_type": "markdown",
      "source": [
        "**Paso 5: Calcular ingresos totales**\n",
        "\n",
        "Ahora que tienes todos los registros de clientes limpios, el siguiente paso es comenzar a generar insights que puedan ayudar a la empresa a tomar decisiones estratégicas.\n",
        "\n",
        "La empresa desea conocer sus ingresos totales.\n",
        "\n",
        "Para calcular los ingresos de la empresa, sigue estos pasos:\n",
        "\n",
        "Crea una variable revenue con valor inicial 0.\n",
        "Itera sobre la lista users_clean con un bucle for.\n",
        "En cada iteración, extrae la lista de gastos de cada usuario (la última posición de la sublista).\n",
        "Suma esos valores con sum() y añádelos a revenue.\n",
        "Al finalizar, imprime el resultado final para mostrar el ingreso total generado por todos los usuarios.\n"
      ],
      "metadata": {
        "id": "XPeyEkk_GUna"
      }
    },
    {
      "cell_type": "code",
      "source": [
        "users_clean = [['32415', ['mike', 'reed'], 32, ['electronics', 'sport', 'books'], [894, 213, 173]],\n",
        "         \t\t\t ['31980', ['kate', 'morgan'], 24, ['clothes', 'books'], [439, 390]],\n",
        "         \t\t\t ['32156', ['john', 'doe'], 37, ['electronics', 'home', 'food'], [459, 120, 99]],\n",
        "         \t\t\t ['32761', ['samantha', 'smith'], 29, ['clothes', 'electronics', 'beauty'], [299, 679, 85]],\n",
        "         \t\t\t ['32984', ['david', 'white'], 41, ['books', 'home', 'sport'], [234, 329, 243]],\n",
        "         \t\t\t ['33001', ['emily', 'brown'], 26, ['beauty', 'home', 'food'], [213, 659, 79]],\n",
        "         \t\t\t ['33767', ['maria', 'garcia'], 33, ['clothes', 'food', 'beauty'], [499, 189, 63]],\n",
        "         \t\t\t ['33912', ['jose', 'martinez'], 22, ['sport', 'electronics', 'home'], [259, 549, 109]],\n",
        "         \t\t\t ['34009', ['lisa', 'wilson'], 35, ['home', 'books', 'clothes'], [329, 189, 329]],\n",
        "         \t\t\t ['34278', ['james', 'lee'], 28, ['beauty', 'clothes', 'electronics'], [189, 299, 579]]]\n",
        "\n",
        "revenue = 0\n",
        "\n",
        "def consumo_total(users_clean):\n",
        "    revenue = 0\n",
        "    # Iteramos sobre cada usuario en la lista de usuarios limpios\n",
        "    # y sumamos los ingresos de cada usuario\n",
        "    for user in users_clean:\n",
        "        # Sumar los ingresos de cada usuario\n",
        "        revenue += sum(user[4])  # user[4] contiene la lista de ingresos\n",
        "    return revenue\n",
        "\n",
        "revenue = consumo_total(users_clean)\n",
        "\n",
        "print(f'El ingreso total es: {revenue}')"
      ],
      "metadata": {
        "colab": {
          "base_uri": "https://localhost:8080/"
        },
        "id": "HMEXZIrFGX_d",
        "outputId": "98a1593d-95f5-4549-d7f8-ee34aebb8bb7"
      },
      "execution_count": 18,
      "outputs": [
        {
          "output_type": "stream",
          "name": "stdout",
          "text": [
            "El ingreso total es: 9189\n"
          ]
        }
      ]
    },
    {
      "cell_type": "markdown",
      "source": [
        "\n",
        "\n",
        "---\n",
        "\n"
      ],
      "metadata": {
        "id": "eFHFU4ZrV_Q1"
      }
    },
    {
      "cell_type": "markdown",
      "source": [
        "**Ejercicio 6**"
      ],
      "metadata": {
        "id": "-qLt1ldOWB74"
      }
    },
    {
      "cell_type": "markdown",
      "source": [
        "Paso 6: Usuarios menores de 30 años\n",
        "El equipo de marketing quiere segmentar a los usuarios jóvenes para campañas específicas. Vamos a identificarlos.\n",
        "\n",
        "Recorre la lista de usuarios users_clean que has preparado anteriormente y muestra los nombres de los clientes menores de 30 años.\n",
        "\n",
        "Pasos:\n",
        "Escribe un bucle for que recorra cada usuario en users_clean.\n",
        "\n",
        "Agrega una condición if para seleccionar a los usuarios menores de 30 años.\n",
        "\n",
        "Dentro del bloque, imprime solo el primer elemento del nombre del usuario.\n",
        "\n",
        "📌 Recuerda:\n",
        "\n",
        "Si un elemento dentro de la lista contiene otra lista (como el nombre del usuario), puedes acceder a sus valores usando múltiples índices. Primero accede a la posición del nombre completo, y luego selecciona la parte específica que quieras mostrar.\n",
        "\n",
        "Al ejecutar el código, deberás ver los nombres de los usuarios menores de 30 años."
      ],
      "metadata": {
        "id": "3yUdqXDlWHHO"
      }
    },
    {
      "cell_type": "code",
      "source": [
        "users_clean = [['32415', ['mike', 'reed'], 32, ['electronics', 'sport', 'books'], [894, 213, 173]],\n",
        "                                 ['31980', ['kate', 'morgan'], 24, ['clothes', 'books'], [439, 390]],\n",
        "                                 ['32156', ['john', 'doe'], 37, ['electronics', 'home', 'food'], [459, 120, 99]],\n",
        "                                 ['32761', ['samantha', 'smith'], 29, ['clothes', 'electronics', 'beauty'], [299, 679, 85]],\n",
        "                                 ['32984', ['david', 'white'], 41, ['books', 'home', 'sport'], [234, 329, 243]],\n",
        "                                 ['33001', ['emily', 'brown'], 26, ['beauty', 'home', 'food'], [213, 659, 79]],\n",
        "                                 ['33767', ['maria', 'garcia'], 33, ['clothes', 'food', 'beauty'], [499, 189, 63]],\n",
        "                                 ['33912', ['jose', 'martinez'], 22, ['sport', 'electronics', 'home'], [259, 549, 109]],\n",
        "                                 ['34009', ['lisa', 'wilson'], 35, ['home', 'books', 'clothes'], [329, 189, 329]],\n",
        "                                 ['34278', ['james', 'lee'], 28, ['beauty', 'clothes', 'electronics'], [189, 299, 579]]]\n",
        "\n",
        "\n",
        "milenial = 30\n",
        "def milenials(users_clean):\n",
        "    millennials = []\n",
        "    # Iteramos sobre cada usuario en la lista de usuarios limpios\n",
        "    for user in users_clean:\n",
        "        # Verificamos si la edad del usuario es menor a 30\n",
        "        if user[2] < milenial:\n",
        "            #Si tiene menos de 30 entonces imprimimos el nombre del usuariosin apellidos\n",
        "            millennials.append(user[1][0])  # user[1][0] es el primer nombre del usuario\n",
        "    return millennials\n",
        "millennials = milenials(users_clean)\n",
        "\n",
        "\n",
        "#los imprimimos fuera de la lista como con salto de linea\n",
        "for name in millennials:\n",
        "    print(name)"
      ],
      "metadata": {
        "colab": {
          "base_uri": "https://localhost:8080/"
        },
        "id": "gy_4X7GqWJNZ",
        "outputId": "588c54cf-2641-4c83-89f7-f5b3ec0ed436"
      },
      "execution_count": 11,
      "outputs": [
        {
          "output_type": "stream",
          "name": "stdout",
          "text": [
            "kate\n",
            "samantha\n",
            "emily\n",
            "jose\n",
            "james\n"
          ]
        }
      ]
    },
    {
      "cell_type": "markdown",
      "source": [
        "\n",
        "\n",
        "---\n",
        "\n"
      ],
      "metadata": {
        "id": "NLe6VHRsbhRq"
      }
    },
    {
      "cell_type": "markdown",
      "source": [
        "**Ejercicio 7**"
      ],
      "metadata": {
        "id": "9Xpw0Urzbigg"
      }
    },
    {
      "cell_type": "markdown",
      "source": [
        "**Paso 7: Jóvenes con alto gasto\n",
        "Ahora filtraremos a los usuarios jóvenes que también han gastado mucho dinero, para que la empresa pueda identificarlos y darles beneficios especiales.**\n",
        "\n",
        "Debajo tienes la lista users_clean con todos los datos procesados.\n",
        "\n",
        "Pasos:\n",
        "Escribe un bucle for que recorra cada usuario en users_clean.\n",
        "Calcula el total gastado por cada usuario (suma de la lista de gastos).\n",
        "Usa una condición if para mostrar solo los usuarios menores de 30 años y con un gasto total superior a $1000.\n",
        "Imprime solo la primera parte del nombre de cada usuario que cumpla ambos criterios.\n"
      ],
      "metadata": {
        "id": "4nyD5M7fbmSy"
      }
    },
    {
      "cell_type": "code",
      "source": [
        "users_clean = [['32415', ['mike', 'reed'], 32, ['electronics', 'sport', 'books'], [894, 213, 173]],\n",
        "                                 ['31980', ['kate', 'morgan'], 24, ['clothes', 'books'], [439, 390]],\n",
        "                                 ['32156', ['john', 'doe'], 37, ['electronics', 'home', 'food'], [459, 120, 99]],\n",
        "                                 ['32761', ['samantha', 'smith'], 29, ['clothes', 'electronics', 'beauty'], [299, 679, 85]],\n",
        "                                 ['32984', ['david', 'white'], 41, ['books', 'home', 'sport'], [234, 329, 243]],\n",
        "                                 ['33001', ['emily', 'brown'], 26, ['beauty', 'home', 'food'], [213, 659, 79]],\n",
        "                                 ['33767', ['maria', 'garcia'], 33, ['clothes', 'food', 'beauty'], [499, 189, 63]],\n",
        "                                 ['33912', ['jose', 'martinez'], 22, ['sport', 'electronics', 'home'], [259, 549, 109]],\n",
        "                                 ['34009', ['lisa', 'wilson'], 35, ['home', 'books', 'clothes'], [329, 189, 329]],\n",
        "                                 ['34278', ['james', 'lee'], 28, ['beauty', 'clothes', 'electronics'], [189, 299, 579]]]\n",
        "\n",
        "\n",
        "milenial_junior = 1000\n",
        "milenial = 30\n",
        "\n",
        "def milenials(users_clean):\n",
        "    milenial_junior_list = []\n",
        "    # escribe tu código aquí\n",
        "    for user in users_clean:\n",
        "        total_spent = sum(user[4]) # Calculate the total spent by summing the list of expenses (index 4)\n",
        "        if user[2] < milenial and total_spent > milenial_junior: # Check if age (index 2) is less than 30 AND total_spent is greater than 1000\n",
        "            milenial_junior_list.append(user[1][0])\n",
        "    return milenial_junior_list\n",
        "\n",
        "milenial_junior_list = milenials(users_clean)\n",
        "\n",
        "\n",
        "#los imprimimos fuera de la lista como con salto de linea\n",
        "for name in milenial_junior_list:\n",
        "    print(name)"
      ],
      "metadata": {
        "colab": {
          "base_uri": "https://localhost:8080/"
        },
        "id": "D8k6rEGNbyIk",
        "outputId": "c0a58b8d-bdd1-4a75-e168-ef356d06ed97"
      },
      "execution_count": 13,
      "outputs": [
        {
          "output_type": "stream",
          "name": "stdout",
          "text": [
            "samantha\n",
            "james\n"
          ]
        }
      ]
    },
    {
      "cell_type": "markdown",
      "source": [
        "\n",
        "\n",
        "---\n",
        "\n"
      ],
      "metadata": {
        "id": "c66Au8GPiqbm"
      }
    },
    {
      "cell_type": "markdown",
      "source": [
        "**Ejercicio 8**"
      ],
      "metadata": {
        "id": "_M-lAfMmiWbD"
      }
    },
    {
      "cell_type": "markdown",
      "source": [
        "**Paso 8: Usuarios que compraron ropa**\n",
        "\n",
        "Store 1 también está explorando patrones de compra por categoría. Comenzamos con la categoría \"clothes\".\n",
        "\n",
        "Debajo tienes la lista users_clean con toda la información de compras ya procesada.\n",
        "\n",
        "Pasos:\n",
        "Escribe un bucle for que recorra cada usuario en users_clean.\n",
        "Usa una condición if para verificar si \"clothes\" está entre las categorías compradas.\n",
        "Si cumple la condición, imprime el nombre del usuario y su edad en la misma línea.\n"
      ],
      "metadata": {
        "id": "WkA3WAPTiskB"
      }
    },
    {
      "cell_type": "code",
      "source": [
        "users_clean = [['32415', ['mike', 'reed'], 32, ['electronics', 'sport', 'books'], [894, 213, 173]],\n",
        "                                 ['31980', ['kate', 'morgan'], 24, ['clothes', 'books'], [439, 390]],\n",
        "                                 ['32156', ['john', 'doe'], 37, ['electronics', 'home', 'food'], [459, 120, 99]],\n",
        "                                 ['32761', ['samantha', 'smith'], 29, ['clothes', 'electronics', 'beauty'], [299, 679, 85]],\n",
        "                                 ['32984', ['david', 'white'], 41, ['books', 'home', 'sport'], [234, 329, 243]],\n",
        "                                 ['33001', ['emily', 'brown'], 26, ['beauty', 'home', 'food'], [213, 659, 79]],\n",
        "                                 ['33767', ['maria', 'garcia'], 33, ['clothes', 'food', 'beauty'], [499, 189, 63]],\n",
        "                                 ['33912', ['jose', 'martinez'], 22, ['sport', 'electronics', 'home'], [259, 549, 109]],\n",
        "                                 ['34009', ['lisa', 'wilson'], 35, ['home', 'books', 'clothes'], [329, 189, 329]],\n",
        "                                 ['34278', ['james', 'lee'], 28, ['beauty', 'clothes', 'electronics'], [189, 299, 579]]]\n",
        "\n",
        "categoria = \"clothes\"\n",
        "\n",
        "def cat(users_clean):\n",
        "    catego = []\n",
        "    for user in users_clean:\n",
        "        if categoria in user[3]:  # Check if 'clothes' is in the list of categories (index 3)\n",
        "            # Print the full name (joining the elements of the name list at index 1) and age (index 2)\n",
        "            catego.append((user[1], user[2]))\n",
        "            catego_fin = catego\n",
        "\n",
        "    return catego_fin\n",
        "\n",
        "catego_fin = cat(users_clean)\n",
        "\n",
        "#los imprimimos fuera de la lista como con salto de linea y fuera del directorio de la función ejemplo: kate morgan 24\n",
        "\n",
        "for name, age in catego_fin:\n",
        "    print(f\"{name[0]} {name[1]} {age}\")"
      ],
      "metadata": {
        "colab": {
          "base_uri": "https://localhost:8080/"
        },
        "id": "joSE6F20iwzZ",
        "outputId": "70e5f387-c0a3-4752-b5dc-009a9abf657b"
      },
      "execution_count": 16,
      "outputs": [
        {
          "output_type": "stream",
          "name": "stdout",
          "text": [
            "kate morgan 24\n",
            "samantha smith 29\n",
            "maria garcia 33\n",
            "lisa wilson 35\n",
            "james lee 28\n"
          ]
        }
      ]
    },
    {
      "cell_type": "markdown",
      "source": [
        "\n",
        "\n",
        "---\n",
        "\n"
      ],
      "metadata": {
        "id": "WwH7fxkfwuTu"
      }
    },
    {
      "cell_type": "markdown",
      "source": [
        "**Ejercicio 9**"
      ],
      "metadata": {
        "id": "6Wc89u3xwvf3"
      }
    },
    {
      "cell_type": "markdown",
      "source": [
        "**Paso 9: Función con filtro por categoría**\n",
        "\n",
        "Para automatizar el análisis por categoría, implementaremos una función reutilizable que permita obtener los clientes que hayan comprado en una categoría específica.\n",
        "\n",
        "Debajo tienes el nombre de la función y una prueba ya preparada con la categoría \"home\". Solo necesitas completar el cuerpo de la función.\n",
        "\n",
        "Pasos:\n",
        "Completa la definición de la función get_clients_by_category con dos argumentos: una lista de usuarios y una categoría a buscar.\n",
        "\n",
        "Dentro de la función:\n",
        "\n",
        "Crea una lista vacía para guardar los resultados.\n",
        "Recorre cada usuario con un bucle for.\n",
        "Usa una condición if para verificar si la categoría está en su lista de compras.\n",
        "Si se cumple la condición, agrega a la lista de resultados una sublista con su ID, nombre completo, edad y gasto total.\n",
        "Devuelve la lista resultante al final de la función."
      ],
      "metadata": {
        "id": "3hCxZG0jw3Kb"
      }
    },
    {
      "cell_type": "code",
      "source": [
        "users_clean = [['32415', ['mike', 'reed'], 32, ['electronics', 'sport', 'books'], [894, 213, 173]],\n",
        "                                 ['31980', ['kate', 'morgan'], 24, ['clothes', 'books'], [439, 390]],\n",
        "                                 ['32156', ['john', 'doe'], 37, ['electronics', 'home', 'food'], [459, 120, 99]],\n",
        "                                 ['32761', ['samantha', 'smith'], 29, ['clothes', 'electronics', 'beauty'], [299, 679, 85]],\n",
        "                                 ['32984', ['david', 'white'], 41, ['books', 'home', 'sport'], [234, 329, 243]],\n",
        "                                 ['33001', ['emily', 'brown'], 26, ['beauty', 'home', 'food'], [213, 659, 79]],\n",
        "                                 ['33767', ['maria', 'garcia'], 33, ['clothes', 'food', 'beauty'], [499, 189, 63]],\n",
        "                                 ['33912', ['jose', 'martinez'], 22, ['sport', 'electronics', 'home'], [259, 549, 109]],\n",
        "                                 ['34009', ['lisa', 'wilson'], 35, ['home', 'books', 'clothes'], [329, 189, 329]],\n",
        "                                 ['34278', ['james', 'lee'], 28, ['beauty', 'clothes', 'electronics'], [189, 299, 579]]]\n",
        "\n",
        "def get_clients_by_category(users_list, category_to_find):\n",
        "    result = []\n",
        "    for user in users_list:\n",
        "        if category_to_find in user[3]:  # Check if the category is in the list of categories\n",
        "            user_id = user[0]\n",
        "            full_name = ' '.join(user[1]) # Join first and last name\n",
        "            age = user[2]\n",
        "            total_spent = sum(user[4]) # Calculate total spending\n",
        "            result.append([user_id, full_name, age, total_spent])\n",
        "    return result\n",
        "\n",
        "# Prueba con la categoría 'home'\n",
        "filtered = get_clients_by_category(users_clean, 'home')\n",
        "print(filtered)"
      ],
      "metadata": {
        "colab": {
          "base_uri": "https://localhost:8080/"
        },
        "id": "MQOcNVdaw7xs",
        "outputId": "d23cda0a-944e-4523-cc4a-da320248a5fa"
      },
      "execution_count": 17,
      "outputs": [
        {
          "output_type": "stream",
          "name": "stdout",
          "text": [
            "[['32156', 'john doe', 37, 678], ['32984', 'david white', 41, 806], ['33001', 'emily brown', 26, 951], ['33912', 'jose martinez', 22, 917], ['34009', 'lisa wilson', 35, 847]]\n"
          ]
        }
      ]
    }
  ],
  "metadata": {
    "colab": {
      "provenance": []
    },
    "kernelspec": {
      "display_name": "Python 3",
      "name": "python3"
    }
  },
  "nbformat": 4,
  "nbformat_minor": 0
}